{
  "nbformat": 4,
  "nbformat_minor": 0,
  "metadata": {
    "colab": {
      "name": "EmotionTrain.ipynb",
      "provenance": []
    },
    "kernelspec": {
      "name": "python3",
      "display_name": "Python 3"
    },
    "language_info": {
      "name": "python"
    },
    "accelerator": "GPU"
  },
  "cells": [
    {
      "cell_type": "code",
      "execution_count": 1,
      "metadata": {
        "id": "q-AcB9T3dZ2H"
      },
      "outputs": [],
      "source": [
        "import numpy as np\n",
        "import tensorflow as tf\n",
        "import pandas as pd"
      ]
    },
    {
      "cell_type": "code",
      "source": [
        "# load data\n",
        "data = pd.read_csv('drive/MyDrive/fer2013.csv')"
      ],
      "metadata": {
        "id": "23pH21WWdouc"
      },
      "execution_count": 2,
      "outputs": []
    },
    {
      "cell_type": "code",
      "source": [
        "data['Usage'].unique()"
      ],
      "metadata": {
        "colab": {
          "base_uri": "https://localhost:8080/"
        },
        "id": "gvY9BOxImDHJ",
        "outputId": "dc7ce075-0dd3-44b4-b93e-de4cc9857da6"
      },
      "execution_count": 3,
      "outputs": [
        {
          "output_type": "execute_result",
          "data": {
            "text/plain": [
              "array(['Training', 'PublicTest', 'PrivateTest'], dtype=object)"
            ]
          },
          "metadata": {},
          "execution_count": 3
        }
      ]
    },
    {
      "cell_type": "code",
      "source": [
        "train = data[data['Usage']=='Training'].drop('Usage', axis=1)\n",
        "public_test = data[data['Usage']=='PublicTest'].drop('Usage', axis=1)\n",
        "private_test = data[data['Usage']=='PrivateTest'].drop('Usage', axis=1)"
      ],
      "metadata": {
        "id": "g6we4pb8mhzC"
      },
      "execution_count": 4,
      "outputs": []
    },
    {
      "cell_type": "code",
      "source": [
        "y_train = train['emotion']\n",
        "X_train = train['pixels']\n",
        "y_val = public_test['emotion']\n",
        "X_val = public_test['pixels']\n",
        "y_test = private_test['emotion']\n",
        "X_test = private_test['pixels']"
      ],
      "metadata": {
        "id": "siwzWmGs2wEZ"
      },
      "execution_count": 5,
      "outputs": []
    },
    {
      "cell_type": "code",
      "source": [
        "X_train = X_train.apply(lambda s: np.array(list(map(int, s.split(' ')))))\n",
        "X_val = X_val.apply(lambda s: np.array(list(map(int, s.split(' ')))))\n",
        "X_test = X_test.apply(lambda s: np.array(list(map(int, s.split(' ')))))"
      ],
      "metadata": {
        "id": "MoqWuOaym6rQ"
      },
      "execution_count": 6,
      "outputs": []
    },
    {
      "cell_type": "code",
      "source": [
        "X_train"
      ],
      "metadata": {
        "colab": {
          "base_uri": "https://localhost:8080/"
        },
        "id": "gqCp63wbqCNk",
        "outputId": "5881710b-0199-40c1-c0e4-081f73838a30"
      },
      "execution_count": 7,
      "outputs": [
        {
          "output_type": "execute_result",
          "data": {
            "text/plain": [
              "0        [70, 80, 82, 72, 58, 58, 60, 63, 54, 58, 60, 4...\n",
              "1        [151, 150, 147, 155, 148, 133, 111, 140, 170, ...\n",
              "2        [231, 212, 156, 164, 174, 138, 161, 173, 182, ...\n",
              "3        [24, 32, 36, 30, 32, 23, 19, 20, 30, 41, 21, 2...\n",
              "4        [4, 0, 0, 0, 0, 0, 0, 0, 0, 0, 0, 0, 3, 15, 23...\n",
              "                               ...                        \n",
              "28704    [84, 85, 85, 85, 85, 85, 85, 85, 86, 86, 86, 8...\n",
              "28705    [114, 112, 113, 113, 111, 111, 112, 113, 115, ...\n",
              "28706    [74, 81, 87, 89, 95, 100, 98, 93, 105, 120, 12...\n",
              "28707    [222, 227, 203, 90, 86, 90, 84, 77, 94, 87, 99...\n",
              "28708    [195, 199, 205, 206, 205, 203, 206, 209, 208, ...\n",
              "Name: pixels, Length: 28709, dtype: object"
            ]
          },
          "metadata": {},
          "execution_count": 7
        }
      ]
    },
    {
      "cell_type": "code",
      "source": [
        "X_train = np.stack(X_train)\n",
        "X_val = np.stack(X_val)\n",
        "X_test = np.stack(X_test)"
      ],
      "metadata": {
        "id": "TUpLBfnBreh8"
      },
      "execution_count": 8,
      "outputs": []
    },
    {
      "cell_type": "code",
      "source": [
        "y_train = np.asarray(y_train)\n",
        "y_val = np.asarray(y_val)\n",
        "y_test = np.asarray(y_test)"
      ],
      "metadata": {
        "id": "PLeEesNit1Os"
      },
      "execution_count": 9,
      "outputs": []
    },
    {
      "cell_type": "code",
      "source": [
        "scaler = np.vectorize(lambda x: x / 255.0)"
      ],
      "metadata": {
        "id": "_nLaAg-40aGN"
      },
      "execution_count": 10,
      "outputs": []
    },
    {
      "cell_type": "code",
      "source": [
        "X_train = scaler(X_train)\n",
        "X_val = scaler(X_val)\n",
        "X_test = scaler(X_test)"
      ],
      "metadata": {
        "id": "A6Z39H181InU"
      },
      "execution_count": 11,
      "outputs": []
    },
    {
      "cell_type": "code",
      "source": [
        "X_train = X_train.reshape((X_train.shape[0], 48, 48, 1))\n",
        "X_test = X_test.reshape((X_test.shape[0], 48, 48, 1))\n",
        "X_val = X_val.reshape((X_val.shape[0], 48, 48, 1))"
      ],
      "metadata": {
        "id": "Uj0y7yzEY4uy"
      },
      "execution_count": 12,
      "outputs": []
    },
    {
      "cell_type": "code",
      "source": [
        "# VGG Net: CCP CCP CCP CCP FF\n",
        "model = tf.keras.Sequential()\n",
        "\n",
        "model.add(tf.keras.layers.Conv2D(64, kernel_size=3, use_bias=False, padding='same'))\n",
        "model.add(tf.keras.layers.BatchNormalization())\n",
        "model.add(tf.keras.layers.ReLU())\n",
        "model.add(tf.keras.layers.Dropout(0.25))\n",
        "model.add(tf.keras.layers.Conv2D(64, kernel_size=3, use_bias=False, padding='same'))\n",
        "model.add(tf.keras.layers.BatchNormalization())\n",
        "model.add(tf.keras.layers.ReLU())\n",
        "model.add(tf.keras.layers.Dropout(0.25))\n",
        "model.add(tf.keras.layers.MaxPooling2D((2, 2)))\n",
        "\n",
        "model.add(tf.keras.layers.Conv2D(128, kernel_size=5, use_bias=False, padding='same'))\n",
        "model.add(tf.keras.layers.BatchNormalization())\n",
        "model.add(tf.keras.layers.ReLU())\n",
        "model.add(tf.keras.layers.Dropout(0.25))\n",
        "model.add(tf.keras.layers.Conv2D(128, kernel_size=5, use_bias=False, padding='same'))\n",
        "model.add(tf.keras.layers.BatchNormalization())\n",
        "model.add(tf.keras.layers.ReLU())\n",
        "model.add(tf.keras.layers.Dropout(0.25))\n",
        "model.add(tf.keras.layers.MaxPooling2D((2, 2)))\n",
        "\n",
        "model.add(tf.keras.layers.Conv2D(256, kernel_size=3, use_bias=False, padding='same'))\n",
        "model.add(tf.keras.layers.BatchNormalization())\n",
        "model.add(tf.keras.layers.ReLU())\n",
        "model.add(tf.keras.layers.Dropout(0.25))\n",
        "model.add(tf.keras.layers.Conv2D(256, kernel_size=3, use_bias=False, padding='same'))\n",
        "model.add(tf.keras.layers.BatchNormalization())\n",
        "model.add(tf.keras.layers.ReLU())\n",
        "model.add(tf.keras.layers.Dropout(0.25))\n",
        "model.add(tf.keras.layers.MaxPooling2D((2, 2)))\n",
        "\n",
        "model.add(tf.keras.layers.Conv2D(512, kernel_size=3, use_bias=False, padding='same'))\n",
        "model.add(tf.keras.layers.BatchNormalization())\n",
        "model.add(tf.keras.layers.ReLU())\n",
        "model.add(tf.keras.layers.Dropout(0.25))\n",
        "model.add(tf.keras.layers.Conv2D(512, kernel_size=3, use_bias=False, padding='same'))\n",
        "model.add(tf.keras.layers.BatchNormalization())\n",
        "model.add(tf.keras.layers.ReLU())\n",
        "model.add(tf.keras.layers.Dropout(0.25))\n",
        "model.add(tf.keras.layers.MaxPooling2D((2, 2)))\n",
        "\n",
        "\n",
        "model.add(tf.keras.layers.Flatten())\n",
        "\n",
        "model.add(tf.keras.layers.Dense(512))\n",
        "model.add(tf.keras.layers.BatchNormalization())\n",
        "model.add(tf.keras.layers.ReLU())\n",
        "model.add(tf.keras.layers.Dropout(0.25))\n",
        "\n",
        "model.add(tf.keras.layers.Dense(256))\n",
        "model.add(tf.keras.layers.BatchNormalization())\n",
        "model.add(tf.keras.layers.ReLU())\n",
        "model.add(tf.keras.layers.Dropout(0.25))\n",
        "\n",
        "model.add(tf.keras.layers.Dense(128))\n",
        "model.add(tf.keras.layers.BatchNormalization())\n",
        "model.add(tf.keras.layers.ReLU())\n",
        "model.add(tf.keras.layers.Dropout(0.25))\n",
        "\n",
        "model.add(tf.keras.layers.Dense(7))\n",
        "model.add(tf.keras.layers.Softmax())\n"
      ],
      "metadata": {
        "id": "lKcz3DVcdl_h"
      },
      "execution_count": 13,
      "outputs": []
    },
    {
      "cell_type": "code",
      "source": [
        "#opt = tf.keras.optimizers.SGD(nesterov=True)\n",
        "opt = tf.keras.optimizers.Adam(lr=0.001, beta_1=0.9, beta_2=0.999, epsilon=1e-7)\n",
        "reduce_lr = tf.keras.callbacks.ReduceLROnPlateau(monitor='val_loss',factor=0.2,patience=3, min_lr=0.001)\n",
        "model.compile(optimizer=opt, loss='sparse_categorical_crossentropy', metrics=['accuracy'])"
      ],
      "metadata": {
        "id": "XLqWfkjV5J8T",
        "colab": {
          "base_uri": "https://localhost:8080/"
        },
        "outputId": "c853277e-c80a-4e02-ccaa-b5414eb10202"
      },
      "execution_count": 14,
      "outputs": [
        {
          "output_type": "stream",
          "name": "stderr",
          "text": [
            "/usr/local/lib/python3.7/dist-packages/keras/optimizer_v2/adam.py:105: UserWarning: The `lr` argument is deprecated, use `learning_rate` instead.\n",
            "  super(Adam, self).__init__(name, **kwargs)\n"
          ]
        }
      ]
    },
    {
      "cell_type": "code",
      "source": [
        "history = model.fit(X_train, y_train, batch_size=64, epochs=20, validation_data=(X_val, y_val), shuffle=True, verbose=1, callbacks=[reduce_lr])"
      ],
      "metadata": {
        "colab": {
          "base_uri": "https://localhost:8080/"
        },
        "id": "e94wyPVt5Nn8",
        "outputId": "1576d489-cff7-411e-dcc4-f2f1a3d4f2f0"
      },
      "execution_count": 15,
      "outputs": [
        {
          "output_type": "stream",
          "name": "stdout",
          "text": [
            "Epoch 1/20\n",
            "449/449 [==============================] - 66s 117ms/step - loss: 1.8501 - accuracy: 0.2638 - val_loss: 1.9513 - val_accuracy: 0.2494 - lr: 0.0010\n",
            "Epoch 2/20\n",
            "449/449 [==============================] - 51s 113ms/step - loss: 1.4904 - accuracy: 0.4165 - val_loss: 1.4288 - val_accuracy: 0.4310 - lr: 0.0010\n",
            "Epoch 3/20\n",
            "449/449 [==============================] - 51s 114ms/step - loss: 1.2743 - accuracy: 0.5118 - val_loss: 1.2917 - val_accuracy: 0.5065 - lr: 0.0010\n",
            "Epoch 4/20\n",
            "449/449 [==============================] - 51s 114ms/step - loss: 1.1661 - accuracy: 0.5589 - val_loss: 1.2378 - val_accuracy: 0.5316 - lr: 0.0010\n",
            "Epoch 5/20\n",
            "449/449 [==============================] - 51s 114ms/step - loss: 1.1012 - accuracy: 0.5845 - val_loss: 1.1665 - val_accuracy: 0.5514 - lr: 0.0010\n",
            "Epoch 6/20\n",
            "449/449 [==============================] - 51s 114ms/step - loss: 1.0546 - accuracy: 0.6035 - val_loss: 1.2265 - val_accuracy: 0.5386 - lr: 0.0010\n",
            "Epoch 7/20\n",
            "449/449 [==============================] - 51s 113ms/step - loss: 1.0140 - accuracy: 0.6211 - val_loss: 1.1289 - val_accuracy: 0.5651 - lr: 0.0010\n",
            "Epoch 8/20\n",
            "449/449 [==============================] - 51s 114ms/step - loss: 0.9701 - accuracy: 0.6384 - val_loss: 1.2614 - val_accuracy: 0.5344 - lr: 0.0010\n",
            "Epoch 9/20\n",
            "449/449 [==============================] - 51s 113ms/step - loss: 0.9331 - accuracy: 0.6521 - val_loss: 1.0870 - val_accuracy: 0.5929 - lr: 0.0010\n",
            "Epoch 10/20\n",
            "449/449 [==============================] - 51s 114ms/step - loss: 0.8965 - accuracy: 0.6657 - val_loss: 1.0958 - val_accuracy: 0.5901 - lr: 0.0010\n",
            "Epoch 11/20\n",
            "449/449 [==============================] - 51s 113ms/step - loss: 0.8503 - accuracy: 0.6818 - val_loss: 1.0787 - val_accuracy: 0.6027 - lr: 0.0010\n",
            "Epoch 12/20\n",
            "449/449 [==============================] - 51s 113ms/step - loss: 0.8131 - accuracy: 0.7002 - val_loss: 1.0927 - val_accuracy: 0.5946 - lr: 0.0010\n",
            "Epoch 13/20\n",
            "449/449 [==============================] - 51s 113ms/step - loss: 0.7657 - accuracy: 0.7172 - val_loss: 1.1066 - val_accuracy: 0.5935 - lr: 0.0010\n",
            "Epoch 14/20\n",
            "449/449 [==============================] - 51s 113ms/step - loss: 0.7259 - accuracy: 0.7305 - val_loss: 1.0522 - val_accuracy: 0.6166 - lr: 0.0010\n",
            "Epoch 15/20\n",
            "449/449 [==============================] - 51s 113ms/step - loss: 0.6823 - accuracy: 0.7497 - val_loss: 1.1175 - val_accuracy: 0.5935 - lr: 0.0010\n",
            "Epoch 16/20\n",
            "449/449 [==============================] - 51s 113ms/step - loss: 0.6406 - accuracy: 0.7681 - val_loss: 1.0669 - val_accuracy: 0.6188 - lr: 0.0010\n",
            "Epoch 17/20\n",
            "449/449 [==============================] - 51s 112ms/step - loss: 0.6009 - accuracy: 0.7793 - val_loss: 1.0947 - val_accuracy: 0.6208 - lr: 0.0010\n",
            "Epoch 18/20\n",
            "449/449 [==============================] - 51s 113ms/step - loss: 0.5530 - accuracy: 0.8010 - val_loss: 1.0705 - val_accuracy: 0.6289 - lr: 0.0010\n",
            "Epoch 19/20\n",
            "449/449 [==============================] - 51s 113ms/step - loss: 0.5060 - accuracy: 0.8145 - val_loss: 1.1106 - val_accuracy: 0.6308 - lr: 0.0010\n",
            "Epoch 20/20\n",
            "449/449 [==============================] - 51s 113ms/step - loss: 0.4722 - accuracy: 0.8284 - val_loss: 1.1118 - val_accuracy: 0.6230 - lr: 0.0010\n"
          ]
        }
      ]
    },
    {
      "cell_type": "code",
      "source": [
        "model.evaluate(X_val, y_val)"
      ],
      "metadata": {
        "colab": {
          "base_uri": "https://localhost:8080/"
        },
        "id": "ZzS-sBpw2h6q",
        "outputId": "e0e95a1e-63ef-46af-f1c9-ae5f5cc60298"
      },
      "execution_count": 16,
      "outputs": [
        {
          "output_type": "stream",
          "name": "stdout",
          "text": [
            "113/113 [==============================] - 3s 20ms/step - loss: 1.1119 - accuracy: 0.6230\n"
          ]
        },
        {
          "output_type": "execute_result",
          "data": {
            "text/plain": [
              "[1.1118512153625488, 0.6230147480964661]"
            ]
          },
          "metadata": {},
          "execution_count": 16
        }
      ]
    },
    {
      "cell_type": "code",
      "source": [
        "import matplotlib.pyplot as plt"
      ],
      "metadata": {
        "id": "2WQ0plSfsO3A"
      },
      "execution_count": 17,
      "outputs": []
    },
    {
      "cell_type": "code",
      "source": [
        "acc = history.history['accuracy']\n",
        "val_acc = history.history['val_accuracy']\n",
        "loss = history.history['loss']\n",
        "val_loss = history.history['val_loss']\n",
        "\n",
        "epochs = range(len(acc))\n"
      ],
      "metadata": {
        "id": "DT9W6gE4n2sa"
      },
      "execution_count": 18,
      "outputs": []
    },
    {
      "cell_type": "code",
      "source": [
        "\n",
        "plt.plot(epochs, acc, 'bo', label='Training acc')\n",
        "plt.plot(epochs, val_acc, 'b', label='Validation acc')\n",
        "plt.title('Training and validation accuracy')\n",
        "plt.legend()\n",
        "\n",
        "plt.figure()\n",
        "\n",
        "plt.plot(epochs, loss, 'bo', label='Training loss')\n",
        "plt.plot(epochs, val_loss, 'b', label='Validation loss')\n",
        "plt.title('Training and validation loss')\n",
        "plt.legend()\n",
        "\n",
        "plt.show()"
      ],
      "metadata": {
        "colab": {
          "base_uri": "https://localhost:8080/",
          "height": 545
        },
        "id": "_6Yq7h-IsT3f",
        "outputId": "4f6e487a-a507-4ebf-bc44-5a6d0dd32f5d"
      },
      "execution_count": 19,
      "outputs": [
        {
          "output_type": "display_data",
          "data": {
            "text/plain": [
              "<Figure size 432x288 with 1 Axes>"
            ],
            "image/png": "[encoded data removed]"
          },
          "metadata": {
            "needs_background": "light"
          }
        },
        {
          "output_type": "display_data",
          "data": {
            "text/plain": [
              "<Figure size 432x288 with 1 Axes>"
            ],
            "image/png": "[encoded data removed]"
          },
          "metadata": {
            "needs_background": "light"
          }
        }
      ]
    },
    {
      "cell_type": "code",
      "source": [
        "model.save('model')"
      ],
      "metadata": {
        "colab": {
          "base_uri": "https://localhost:8080/"
        },
        "id": "IgnWuAECoa_v",
        "outputId": "fb5fc17c-db9e-49f3-fdee-92690f0f8e32"
      },
      "execution_count": 20,
      "outputs": [
        {
          "output_type": "stream",
          "name": "stdout",
          "text": [
            "INFO:tensorflow:Assets written to: model/assets\n"
          ]
        }
      ]
    },
    {
      "cell_type": "code",
      "source": [
        ""
      ],
      "metadata": {
        "id": "Lg9YwEmsoek_"
      },
      "execution_count": null,
      "outputs": []
    }
  ]
}